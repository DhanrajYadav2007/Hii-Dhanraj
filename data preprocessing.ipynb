{
 "cells": [
  {
   "cell_type": "code",
   "execution_count": 1,
   "id": "43fa3b49-39a7-48b7-803c-9a5a9cfb1671",
   "metadata": {},
   "outputs": [
    {
     "name": "stdout",
     "output_type": "stream",
     "text": [
      "Requirement already satisfied: nltk in c:\\users\\dhan1\\anaconda3\\lib\\site-packages (3.9.1)\n",
      "Requirement already satisfied: click in c:\\users\\dhan1\\anaconda3\\lib\\site-packages (from nltk) (8.1.8)\n",
      "Requirement already satisfied: joblib in c:\\users\\dhan1\\anaconda3\\lib\\site-packages (from nltk) (1.4.2)\n",
      "Requirement already satisfied: regex>=2021.8.3 in c:\\users\\dhan1\\anaconda3\\lib\\site-packages (from nltk) (2024.11.6)\n",
      "Requirement already satisfied: tqdm in c:\\users\\dhan1\\anaconda3\\lib\\site-packages (from nltk) (4.67.1)\n",
      "Requirement already satisfied: colorama in c:\\users\\dhan1\\anaconda3\\lib\\site-packages (from click->nltk) (0.4.6)\n"
     ]
    }
   ],
   "source": [
    "!pip install nltk"
   ]
  },
  {
   "cell_type": "code",
   "execution_count": 2,
   "id": "3f2d6fba-43aa-410d-bdf4-581a4a182a7c",
   "metadata": {},
   "outputs": [],
   "source": [
    "import nltk"
   ]
  },
  {
   "cell_type": "code",
   "execution_count": 4,
   "id": "b140d722-a3ca-48a1-bb29-fa79e29872e9",
   "metadata": {},
   "outputs": [
    {
     "name": "stdout",
     "output_type": "stream",
     "text": [
      "showing info https://raw.githubusercontent.com/nltk/nltk_data/gh-pages/index.xml\n"
     ]
    },
    {
     "data": {
      "text/plain": [
       "True"
      ]
     },
     "execution_count": 4,
     "metadata": {},
     "output_type": "execute_result"
    }
   ],
   "source": [
    "nltk.download()"
   ]
  },
  {
   "cell_type": "code",
   "execution_count": 2,
   "id": "2930b538-8d9c-40f9-871f-b5c6cb4bb539",
   "metadata": {},
   "outputs": [
    {
     "name": "stdout",
     "output_type": "stream",
     "text": [
      "Barack obama went as a president of USA in the year of 2015 . PM Modi is the prime minister of INDIA.\n"
     ]
    }
   ],
   "source": [
    "input = \"Barack obama went as a president of USA in the year of 2015 . PM Modi is the prime minister of INDIA.\"\n",
    "print(input)"
   ]
  },
  {
   "cell_type": "code",
   "execution_count": 11,
   "id": "5061158e-54cb-425f-b89d-a2b02c45bf51",
   "metadata": {},
   "outputs": [
    {
     "name": "stdout",
     "output_type": "stream",
     "text": [
      "LOWERCSE =  barack obama went as a president of usa in the year of 2015 . pm modi is the prime minister of india.\n"
     ]
    }
   ],
   "source": [
    "lowercase = input.lower()\n",
    "print(\"LOWERCSE = \", lowercase)"
   ]
  },
  {
   "cell_type": "code",
   "execution_count": 4,
   "id": "a3716fe5-a827-4fcd-855f-d2f8b46263b1",
   "metadata": {},
   "outputs": [
    {
     "name": "stdout",
     "output_type": "stream",
     "text": [
      "REGULAR EXP1 =  barack obama went as a president of usa in the year of 2025 . pm modi is the prime minister of india.\n",
      "REGULAR EXP2 =  **r*** o**** w*nt *s * pr*s***nt o* us* *n t** y**r o* 2025 . p* *o** *s t** pr*** **n*st*r o* *n***.\n",
      "REGULAR EXP3 =  barack obama went as a president of usa in the year of ____ . pm modi is the prime minister of india.\n"
     ]
    }
   ],
   "source": [
    "#re\n",
    "#pip install re\n",
    "import re\n",
    "lowercase_re = re.sub('2015', '2025',lowercase)\n",
    "print(\"REGULAR EXP1 = \", lowercase_re)\n",
    "lowercase_re=re.sub('[a-m]', '*', lowercase_re)\n",
    "print(\"REGULAR EXP2 = \", lowercase_re)\n",
    "lowercase_re = re.sub('\\d', '_',lowercase)\n",
    "print(\"REGULAR EXP3 = \",lowercase_re)"
   ]
  },
  {
   "cell_type": "code",
   "execution_count": 5,
   "id": "25134bad-3df2-4e6d-bc61-9fedfde0ffcc",
   "metadata": {},
   "outputs": [
    {
     "name": "stdout",
     "output_type": "stream",
     "text": [
      "WORD TOKENS =  ['Barack', 'obama', 'went', 'as', 'a', 'president', 'of', 'USA', 'in', 'the', 'year', 'of', '2015', '.', 'PM', 'Modi', 'is', 'the', 'prime', 'minister', 'of', 'INDIA', '.']\n",
      "23\n",
      "SENT TOKENS =  ['Barack obama went as a president of USA in the year of 2015 .', 'PM Modi is the prime minister of INDIA.']\n",
      "2\n"
     ]
    }
   ],
   "source": [
    "import nltk\n",
    "from nltk import word_tokenize, sent_tokenize\n",
    "word_tokens = word_tokenize(input)\n",
    "print(\"WORD TOKENS = \",word_tokens)\n",
    "print(len(word_tokens))\n",
    "sent_tokens = sent_tokenize(input)\n",
    "print(\"SENT TOKENS = \",sent_tokens)\n",
    "print(len(sent_tokens))"
   ]
  },
  {
   "cell_type": "code",
   "execution_count": 6,
   "id": "5e144ebb-5839-4d9c-86fc-9eacf173e56f",
   "metadata": {},
   "outputs": [
    {
     "name": "stdout",
     "output_type": "stream",
     "text": [
      "Barack\n",
      "Barack obama\n",
      "Barack obama went\n",
      "Barack obama went president\n",
      "Barack obama went president USA\n",
      "Barack obama went president USA year\n",
      "Barack obama went president USA year 2015\n",
      "Barack obama went president USA year 2015 .\n",
      "Barack obama went president USA year 2015 . PM\n",
      "Barack obama went president USA year 2015 . PM Modi\n",
      "Barack obama went president USA year 2015 . PM Modi prime\n",
      "Barack obama went president USA year 2015 . PM Modi prime minister\n",
      "Barack obama went president USA year 2015 . PM Modi prime minister INDIA\n",
      "Barack obama went president USA year 2015 . PM Modi prime minister INDIA .\n"
     ]
    }
   ],
   "source": [
    "#stopwords removal\n",
    "from nltk.corpus import stopwords\n",
    "#print(stopwords.fileids())\n",
    "stopwords = set(stopwords.words('english'))\n",
    "#print(\"\\n\", stopwords)\n",
    "tokens_stopwords = []\n",
    "for token in word_tokens:\n",
    "    if token not in stopwords:\n",
    "        tokens_stopwords.append(token)\n",
    "        print(' '.join(tokens_stopwords))"
   ]
  },
  {
   "cell_type": "code",
   "execution_count": 7,
   "id": "8ca5b22c-a8fc-493d-a32a-9285ef97562e",
   "metadata": {},
   "outputs": [
    {
     "name": "stdout",
     "output_type": "stream",
     "text": [
      "['barack']\n",
      "['barack', 'obama']\n",
      "['barack', 'obama', 'went']\n",
      "['barack', 'obama', 'went', 'presid']\n",
      "['barack', 'obama', 'went', 'presid', 'usa']\n",
      "['barack', 'obama', 'went', 'presid', 'usa', 'year']\n",
      "['barack', 'obama', 'went', 'presid', 'usa', 'year', '2015']\n",
      "['barack', 'obama', 'went', 'presid', 'usa', 'year', '2015', '.']\n",
      "['barack', 'obama', 'went', 'presid', 'usa', 'year', '2015', '.', 'pm']\n",
      "['barack', 'obama', 'went', 'presid', 'usa', 'year', '2015', '.', 'pm', 'modi']\n",
      "['barack', 'obama', 'went', 'presid', 'usa', 'year', '2015', '.', 'pm', 'modi', 'prime']\n",
      "['barack', 'obama', 'went', 'presid', 'usa', 'year', '2015', '.', 'pm', 'modi', 'prime', 'minist']\n",
      "['barack', 'obama', 'went', 'presid', 'usa', 'year', '2015', '.', 'pm', 'modi', 'prime', 'minist', 'india']\n",
      "['barack', 'obama', 'went', 'presid', 'usa', 'year', '2015', '.', 'pm', 'modi', 'prime', 'minist', 'india', '.']\n"
     ]
    }
   ],
   "source": [
    "#stemmer\n",
    "stemming = []\n",
    "from nltk import PorterStemmer\n",
    "for word in tokens_stopwords:\n",
    "    stemming.append(PorterStemmer().stem(word))\n",
    "    print(stemming)"
   ]
  },
  {
   "cell_type": "code",
   "execution_count": 8,
   "id": "9f366cd5-9d76-40cd-8689-240a2b853327",
   "metadata": {},
   "outputs": [
    {
     "name": "stdout",
     "output_type": "stream",
     "text": [
      "['Barack']\n",
      "['Barack', 'obama']\n",
      "['Barack', 'obama', 'went']\n",
      "['Barack', 'obama', 'went', 'president']\n",
      "['Barack', 'obama', 'went', 'president', 'USA']\n",
      "['Barack', 'obama', 'went', 'president', 'USA', 'year']\n",
      "['Barack', 'obama', 'went', 'president', 'USA', 'year', '2015']\n",
      "['Barack', 'obama', 'went', 'president', 'USA', 'year', '2015', '.']\n",
      "['Barack', 'obama', 'went', 'president', 'USA', 'year', '2015', '.', 'PM']\n",
      "['Barack', 'obama', 'went', 'president', 'USA', 'year', '2015', '.', 'PM', 'Modi']\n",
      "['Barack', 'obama', 'went', 'president', 'USA', 'year', '2015', '.', 'PM', 'Modi', 'prime']\n",
      "['Barack', 'obama', 'went', 'president', 'USA', 'year', '2015', '.', 'PM', 'Modi', 'prime', 'minister']\n",
      "['Barack', 'obama', 'went', 'president', 'USA', 'year', '2015', '.', 'PM', 'Modi', 'prime', 'minister', 'INDIA']\n",
      "['Barack', 'obama', 'went', 'president', 'USA', 'year', '2015', '.', 'PM', 'Modi', 'prime', 'minister', 'INDIA', '.']\n"
     ]
    }
   ],
   "source": [
    "#Lemmatizer\n",
    "from nltk import WordNetLemmatizer\n",
    "lma = []\n",
    "for word in tokens_stopwords:\n",
    "    lma.append(WordNetLemmatizer().lemmatize(word))\n",
    "    print(lma)"
   ]
  },
  {
   "cell_type": "code",
   "execution_count": 9,
   "id": "b79d4088-1231-46ba-a422-b04b41bd97ee",
   "metadata": {},
   "outputs": [
    {
     "name": "stdout",
     "output_type": "stream",
     "text": [
      "[('Barack', 'NNP'), ('obama', 'MD'), ('went', 'VBD'), ('as', 'IN'), ('a', 'DT'), ('president', 'NN'), ('of', 'IN'), ('USA', 'NNP'), ('in', 'IN'), ('the', 'DT'), ('year', 'NN'), ('of', 'IN'), ('2015', 'CD'), ('.', '.'), ('PM', 'NNP'), ('Modi', 'NNP'), ('is', 'VBZ'), ('the', 'DT'), ('prime', 'JJ'), ('minister', 'NN'), ('of', 'IN'), ('INDIA', 'NNP'), ('.', '.')]\n"
     ]
    }
   ],
   "source": [
    "#POS Tags\n",
    "from nltk import pos_tag\n",
    "print(pos_tag(word_tokens))"
   ]
  },
  {
   "cell_type": "code",
   "execution_count": null,
   "id": "819c9a98-b1fc-42bb-aafb-6caa2ad6fee6",
   "metadata": {},
   "outputs": [],
   "source": []
  }
 ],
 "metadata": {
  "kernelspec": {
   "display_name": "Python [conda env:base] *",
   "language": "python",
   "name": "conda-base-py"
  },
  "language_info": {
   "codemirror_mode": {
    "name": "ipython",
    "version": 3
   },
   "file_extension": ".py",
   "mimetype": "text/x-python",
   "name": "python",
   "nbconvert_exporter": "python",
   "pygments_lexer": "ipython3",
   "version": "3.13.5"
  }
 },
 "nbformat": 4,
 "nbformat_minor": 5
}
